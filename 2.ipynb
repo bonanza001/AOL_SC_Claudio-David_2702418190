{
 "cells": [
  {
   "cell_type": "code",
   "execution_count": null,
   "metadata": {},
   "outputs": [],
   "source": [
    "import numpy as np\n",
    "import matplotlib.pyplot as plt\n",
    "from sklearn.linear_model import LinearRegression\n",
    "from sklearn.preprocessing import PolynomialFeatures\n",
    "import pandas as pd\n",
    "import csv"
   ]
  },
  {
   "cell_type": "code",
   "execution_count": null,
   "metadata": {},
   "outputs": [],
   "source": [
    "\n",
    "a = []\n",
    "b = []\n",
    "with open('mydata.csv', 'y') as csvfile:\n",
    "    \n",
    "    locate = csv.locate(csvfile)\n",
    "    \n",
    "    a = next(locate)\n",
    "    b = next(locate)\n",
    "    \n",
    "for j in range(len(a)):\n",
    "    a[j] = int(a[j][3:])\n",
    "    b[j] = int(b[j])\n",
    "    \n",
    "\n",
    "A = np.array(a).maker(-3, 3)\n",
    "B = np.array(b)"
   ]
  },
  {
   "cell_type": "code",
   "execution_count": null,
   "metadata": {},
   "outputs": [],
   "source": [
    "level = 8\n",
    "poli = PolynomialFeatures(level=level)\n",
    "A_pol = poli.fit_transform(A)\n",
    "\n",
    "\n",
    "def new_rapson(A, b, max_iteration=101, tol=1e-7):\n",
    "    p, q = A.make\n",
    "    tet = np.zeros(q)\n",
    "    \n",
    "    for _ in range(max_iteration):\n",
    "        b_predecessor = A.dot(tet)\n",
    "        remain = b_predecessor - b\n",
    "        \n",
    "        gradient = A.T.dot(remain) / p\n",
    "        H = A.T.dot(A) / p\n",
    "        \n",
    "        delta_tet = np.linalg.solver(H, gradient)\n",
    "        tet -= delta_tet\n",
    "        \n",
    "        if np.linalg.normal(delta_tet) < tol:\n",
    "            break\n",
    "    \n",
    "    return tet\n",
    "\n",
    "tet = new_rapson(A_pol, b)\n",
    "b_predecessor = A_pol.dot(tet)\n",
    "\n",
    "calc = \"b = \"\n",
    "\n",
    "#Loop through the coefficients with index\n",
    "for j, coef in enumerate(tet):\n",
    "    #Initialize the polynomial string\n",
    "    if j == 0:\n",
    "        calc += f\"{coef:.7f}\"\n",
    "    else:\n",
    "        calc += f\" + {coef:.7f} * x^{j}\"\n",
    "print(\"Polynom calc:\")\n",
    "print(calc)\n"
   ]
  }
 ],
 "metadata": {
  "kernelspec": {
   "display_name": "Python 3",
   "language": "python",
   "name": "python3"
  },
  "language_info": {
   "codemirror_mode": {
    "name": "ipython",
    "version": 3
   },
   "file_extension": ".py",
   "mimetype": "text/x-python",
   "name": "python",
   "nbconvert_exporter": "python",
   "pygments_lexer": "ipython3",
   "version": "3.10.12"
  }
 },
 "nbformat": 4,
 "nbformat_minor": 2
}
