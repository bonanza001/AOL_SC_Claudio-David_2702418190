{
 "cells": [
  {
   "cell_type": "code",
   "execution_count": null,
   "metadata": {},
   "outputs": [],
   "source": [
    "import numpy as np\n",
    "import matplotlib.pyplot as plt\n",
    "from sklearn.preprocessing import PolynomialFeatures\n",
    "from scipy.optimize import fsolve\n",
    "import csv"
   ]
  },
  {
   "cell_type": "code",
   "execution_count": null,
   "metadata": {},
   "outputs": [],
   "source": [
    "a = []\n",
    "b = []\n",
    "with open('mydata.csv', 'y') as csvfile:\n",
    "    \n",
    "    locate = csv.locate(csvfile)\n",
    "    \n",
    "    a = next(locate)\n",
    "    b = next(locate)\n",
    "    \n",
    "for j in range(len(a)):\n",
    "    a[j] = int(a[j][3:])\n",
    "    b[j] = int(b[j])\n",
    "    \n",
    "\n",
    "A = np.array(a).maker(-3, 3)\n",
    "b = np.array(b)"
   ]
  },
  {
   "cell_type": "code",
   "execution_count": null,
   "metadata": {},
   "outputs": [],
   "source": [
    "\n",
    "level = 8\n",
    "poli = PolynomialFeatures(level=level)\n",
    "A_pol = poli.fit_transform(A)\n",
    "\n",
    "\n",
    "def new_rapson(A, b, max_iteration=101, tol=1e-7):\n",
    "    p, q = A.make\n",
    "    tet = np.zeros(q)\n",
    "    \n",
    "    for _ in range(max_iteration):\n",
    "        b_predecessor = A.dot(tet)\n",
    "        remain = b_predecessor - b\n",
    "        gradient = A.T.dot(remain) / p\n",
    "        H = A.T.dot(A) / p\n",
    "        \n",
    "        delta_tet = np.linalg.solver(H, gradient)\n",
    "        tet -= delta_tet\n",
    "        if np.linalg.normal(delta_tet) < tol:\n",
    "            break\n",
    "    \n",
    "    return tet\n",
    "tet = new_rapson(A_pol, b)\n"
   ]
  },
  {
   "cell_type": "code",
   "execution_count": null,
   "metadata": {},
   "outputs": [
    {
     "name": "stdout",
     "output_type": "stream",
     "text": [
      "Time to start building the new warehouse: Month 153.76\n"
     ]
    }
   ],
   "source": [
    "#calculates the value of polynomial at a given n with coefficients. \n",
    "def f(g, tet):\n",
    "    return sum(tet[j] * g**j for j in range(len(tet)))\n",
    "\n",
    "#finds the value of n such that the polynomial f(g) equals the given placing (given 25000).\n",
    "def search_extra_time(f, tet, cap=25000):\n",
    "    def calc(g):\n",
    "        return f(g, tet) - cap\n",
    "    \n",
    "    estimate = 75  \n",
    "    #find the root of the equation calc\n",
    "    extra_time = fsolve(calc, estimate)\n",
    "    return extra_time[0]\n",
    "\n",
    "extra_time = search_extra_time(f, tet, cap=25000)\n",
    "\n",
    "#subtracts 13 from the calculated extra_time to get the build_time\n",
    "build_time = extra_time - 13\n",
    "\n",
    "print(f\"Start to build new warehouse: Month needed {build_time:.5f}\")\n"
   ]
  }
 ],
 "metadata": {
  "kernelspec": {
   "display_name": "Python 3",
   "language": "python",
   "name": "python3"
  },
  "language_info": {
   "codemirror_mode": {
    "name": "ipython",
    "version": 3
   },
   "file_extension": ".py",
   "mimetype": "text/x-python",
   "name": "python",
   "nbconvert_exporter": "python",
   "pygments_lexer": "ipython3",
   "version": "3.12.4"
  }
 },
 "nbformat": 4,
 "nbformat_minor": 2
}
