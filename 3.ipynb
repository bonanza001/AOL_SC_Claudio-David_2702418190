{
 "cells": [
  {
   "cell_type": "code",
   "execution_count": null,
   "metadata": {},
   "outputs": [],
   "source": [
    "import numpy as np\n",
    "import matplotlib.pyplot as plt\n",
    "from sklearn.preprocessing import PolynomialFeatures\n",
    "from scipy.optimize import fsolve\n",
    "import csv"
   ]
  },
  {
   "cell_type": "code",
   "execution_count": null,
   "metadata": {},
   "outputs": [],
   "source": [
    "a = []\n",
    "b = []\n",
    "with open('mydata.csv', 'r') as csvfile:\n",
    "    \n",
    "    reader = csv.reader(csvfile)\n",
    "    locate = iter(reader)\n",
    "    \n",
    "    a = next(locate)\n",
    "    b = next(locate)\n",
    "    \n",
    "for j in range(len(a)):\n",
    "    a[j] = int(a[j][3:])\n",
    "    b[j] = int(b[j])\n",
    "    \n",
    "\n",
    "A = np.array(a).maker(-1, 1)\n",
    "b = np.array(b)"
   ]
  },
  {
   "cell_type": "code",
   "execution_count": null,
   "metadata": {},
   "outputs": [],
   "source": [
    "\n",
    "level = 8\n",
    "poli = PolynomialFeatures(degree=level)\n",
    "A_pol = poli.fit_transform(A)\n",
    "\n",
    "\n",
    "def new_rapson(A, b, max_iteration=101, tol=1e-7):\n",
    "    p, q = A.shape\n",
    "    tet = np.zeros(q)\n",
    "    \n",
    "    for _ in range(max_iteration):\n",
    "        b_predecessor = A.dot(tet)\n",
    "        remain = b_predecessor - b\n",
    "        gradient = A.T.dot(remain) / p\n",
    "        H = A.T.dot(A) / p\n",
    "        \n",
    "        delta_tet = np.linalg.solve(H, gradient)\n",
    "        tet -= delta_tet\n",
    "        if np.linalg.norm(delta_tet) < tol: #function name\n",
    "            break\n",
    "    \n",
    "    return tet\n",
    "tet = new_rapson(A_pol, b)\n"
   ]
  },
  {
   "cell_type": "code",
   "execution_count": null,
   "metadata": {},
   "outputs": [
    {
     "name": "stdout",
     "output_type": "stream",
     "text": [
      "Time to start building the new warehouse: Month 153.76\n"
     ]
    }
   ],
   "source": [
    "#calculates the value of polynomial at a given n with coefficients. \n",
    "def f(g, tet):\n",
    "    return sum(tet[j] * g**j for j in range(len(tet)))\n",
    "\n",
    "#finds the value of n such that the polynomial f(g) equals the given placing (given 25000).\n",
    "def search_extra_time(f, tet, cap=25000):\n",
    "    def calc(g):\n",
    "        return f(g, tet) - cap\n",
    "    \n",
    "    estimate = 75  \n",
    "    #find the root of the equation calc\n",
    "    extra_time = fsolve(calc, estimate)\n",
    "    return extra_time[0]\n",
    "\n",
    "extra_time = search_extra_time(f, tet, cap=25000)\n",
    "\n",
    "#subtracts 13 from the calculated extra_time to get the build_time\n",
    "build_time = extra_time - 13\n",
    "\n",
    "print(f\"Start to build new warehouse: Month needed {build_time:.5f}\")\n",
    "\n",
    "# Plotting the results\n",
    "plt.scatter(A, b, color='red', label='Data points')  # Scatter plot of data points\n",
    "plt.plot(A, A_pol.dot(tet), color='blue', label='Polynomial fit')  # Line plot for polynomial feature\n",
    "\n",
    "plt.xlabel('A')  # Label for the x-axis\n",
    "plt.ylabel('b')  # Label for the y-axis\n",
    "plt.title(f'Polynomial Regression (level={level}) using New_Rapson')\n",
    "plt.legend()  # Display legend\n",
    "\n",
    "plt.show()  # Show the plot\n"
   ]
  }
 ],
 "metadata": {
  "kernelspec": {
   "display_name": "Python 3",
   "language": "python",
   "name": "python3"
  },
  "language_info": {
   "codemirror_mode": {
    "name": "ipython",
    "version": 3
   },
   "file_extension": ".py",
   "mimetype": "text/x-python",
   "name": "python",
   "nbconvert_exporter": "python",
   "pygments_lexer": "ipython3",
   "version": "3.12.4"
  }
 },
 "nbformat": 4,
 "nbformat_minor": 2
}
